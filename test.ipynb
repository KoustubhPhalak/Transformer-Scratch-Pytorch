{
 "cells": [
  {
   "cell_type": "markdown",
   "metadata": {},
   "source": [
    "# Transformer input-output shape testing"
   ]
  },
  {
   "cell_type": "code",
   "execution_count": 14,
   "metadata": {},
   "outputs": [
    {
     "name": "stdout",
     "output_type": "stream",
     "text": [
      "torch.Size([1, 256, 256])\n"
     ]
    }
   ],
   "source": [
    "import torch\n",
    "import torch.nn as nn\n",
    "import torch.nn.functional as F\n",
    "import math\n",
    "\n",
    "device = torch.device('cuda' if torch.cuda.is_available() else 'cpu')\n",
    "\n",
    "# Positional encoding\n",
    "class PositionalEncoding(nn.Module):\n",
    "    def __init__(self, d_model):\n",
    "        super().__init__()\n",
    "        self.d_model = d_model\n",
    "        \n",
    "    def forward(self, x):\n",
    "        seq_len = x.size(1)\n",
    "        pe = torch.zeros(seq_len, self.d_model, device=x.device)\n",
    "        \n",
    "        # Fix 1: Use sequence positions instead of embedding dimension indices\n",
    "        position = torch.arange(0, seq_len, dtype=torch.float).unsqueeze(1)\n",
    "        \n",
    "        # Fix 2: Correct denominator calculation using exponential/log form\n",
    "        div_term = torch.exp(\n",
    "            torch.arange(0, self.d_model, 2).float() *\n",
    "            (-math.log(10000.0) / self.d_model)\n",
    "        )\n",
    "        \n",
    "        # Fix 3: Proper alternating sin/cos application using position*div_term\n",
    "        pe[:, 0::2] = torch.sin(position * div_term)\n",
    "        pe[:, 1::2] = torch.cos(position * div_term)\n",
    "        return pe.unsqueeze(0)\n",
    "\n",
    "# Final encoding\n",
    "class Final_Encoding(nn.Module):\n",
    "    def __init__(self, vocab_size, d_model):\n",
    "        super().__init__()\n",
    "        self.embedding = nn.Embedding(vocab_size, d_model)\n",
    "        self.pos_encoding = PositionalEncoding(d_model)\n",
    "        self.d_model = d_model\n",
    "    \n",
    "    def forward(self, x):\n",
    "        x = self.embedding(x) * math.sqrt(self.d_model)\n",
    "        x = x + self.pos_encoding(x)\n",
    "        return x\n",
    "\n",
    "vocab_size = 300\n",
    "d_model = 256\n",
    "max_len = 256\n",
    "dropout = 0.1\n",
    "\n",
    "final_encoding = Final_Encoding(vocab_size, d_model).to(device)\n",
    "inp = torch.randint(0, vocab_size, (1, max_len)).to(device)\n",
    "out = final_encoding(inp)\n",
    "print(out.shape)"
   ]
  },
  {
   "cell_type": "code",
   "execution_count": 16,
   "metadata": {},
   "outputs": [
    {
     "name": "stdout",
     "output_type": "stream",
     "text": [
      "torch.Size([32, 256, 64])\n",
      "torch.Size([32, 256, 256])\n"
     ]
    }
   ],
   "source": [
    "# Define single Attention Head\n",
    "class AttentionHead(nn.Module):\n",
    "    def __init__(self, head_size, masking=False):\n",
    "        super(AttentionHead, self).__init__()\n",
    "        self.Q = nn.Linear(d_model, head_size)\n",
    "        self.K = nn.Linear(d_model, head_size)\n",
    "        self.V = nn.Linear(d_model, head_size)\n",
    "        self.softmax = nn.Softmax(dim=-1)\n",
    "        self.masking = masking\n",
    "        self.dropout = nn.Dropout(dropout)\n",
    "        self.head_size = head_size\n",
    "\n",
    "    def forward(self, x, context=None, padding_mask=None): \n",
    "        B, T, C = x.shape\n",
    "        q = self.Q(x)\n",
    "        if context is not None:\n",
    "            k = self.K(context)\n",
    "            v = self.V(context)\n",
    "        else:\n",
    "            k = self.K(x)\n",
    "            v = self.V(x)\n",
    "        attention_weights = q @ k.transpose(-2, -1) / math.sqrt(self.head_size)\n",
    "\n",
    "        if padding_mask is not None:\n",
    "            attention_weights = attention_weights.masked_fill(padding_mask.unsqueeze(1), float('-inf'))\n",
    "\n",
    "        if self.masking: # For decoder only\n",
    "            tril = torch.tril(torch.ones(T, T)).to(device)\n",
    "            attention_weights = attention_weights.masked_fill(tril == 0, float('-inf'))\n",
    "\n",
    "        attention_weights = self.softmax(attention_weights)\n",
    "        attention_weights = self.dropout(attention_weights)\n",
    "        return attention_weights @ v\n",
    "    \n",
    "attn = AttentionHead(64).to(device)\n",
    "test_inp = torch.randn(32, max_len, d_model).to(device)\n",
    "out = attn(test_inp)\n",
    "print(out.shape)\n",
    "\n",
    "# Define Multi-Head Attention\n",
    "class MultiHeadAttention(nn.Module):\n",
    "    def __init__(self, num_heads, masking=False):\n",
    "        super(MultiHeadAttention, self).__init__()\n",
    "        self.head_size = d_model // num_heads\n",
    "        assert self.head_size * num_heads == d_model, \"d_model must be divisible by num_heads\"\n",
    "        self.heads = nn.ModuleList([\n",
    "            AttentionHead(self.head_size, masking) for _ in range(num_heads)\n",
    "        ])\n",
    "        self.proj = nn.Linear(d_model, d_model)\n",
    "        self.dropout = nn.Dropout(dropout)\n",
    "    \n",
    "    def forward(self, x, context=None, padding_mask=None):\n",
    "        out = torch.cat([head(x, context, padding_mask) for head in self.heads], dim=-1)\n",
    "        out = self.dropout(self.proj(out))\n",
    "        return out\n",
    "\n",
    "mul_attn = MultiHeadAttention(4).to(device)\n",
    "out = mul_attn(test_inp)\n",
    "print(out.shape)"
   ]
  },
  {
   "cell_type": "markdown",
   "metadata": {},
   "source": []
  },
  {
   "cell_type": "code",
   "execution_count": 17,
   "metadata": {},
   "outputs": [
    {
     "name": "stdout",
     "output_type": "stream",
     "text": [
      "torch.Size([32, 256, 256])\n"
     ]
    }
   ],
   "source": [
    "dim_feedforward = 1024\n",
    "\n",
    "# Define Feedforward Layer\n",
    "class FeedForward(nn.Module):\n",
    "    def __init__(self, d_model):\n",
    "        super(FeedForward, self).__init__()\n",
    "        self.linear1 = nn.Linear(d_model, dim_feedforward)\n",
    "        self.linear2 = nn.Linear(dim_feedforward, d_model)\n",
    "        self.relu = nn.ReLU()\n",
    "        self.dropout = nn.Dropout(dropout)\n",
    "    \n",
    "    def forward(self, x):\n",
    "        x = self.relu(self.linear1(x))\n",
    "        x = self.dropout(self.linear2(x))\n",
    "        return x\n",
    "    \n",
    "ffd = FeedForward(d_model).to(device)\n",
    "out = ffd(test_inp)\n",
    "print(out.shape)"
   ]
  },
  {
   "cell_type": "code",
   "execution_count": 18,
   "metadata": {},
   "outputs": [
    {
     "name": "stdout",
     "output_type": "stream",
     "text": [
      "torch.Size([32, 256, 256])\n"
     ]
    }
   ],
   "source": [
    "# Define Encoder Layer\n",
    "class Encoder(nn.Module):\n",
    "    def __init__(self, d_model, nhead):\n",
    "        super(Encoder, self).__init__()\n",
    "        self.self_attn = MultiHeadAttention(nhead)\n",
    "        self.ff = FeedForward(d_model)\n",
    "        self.norm1 = nn.LayerNorm(d_model)\n",
    "        self.norm2 = nn.LayerNorm(d_model)\n",
    "        self.dropout = nn.Dropout(dropout)\n",
    "    \n",
    "    def forward(self, x, context=None, encoder_padding_mask=None):\n",
    "        self_attn_out = self.dropout(self.self_attn(x, context, encoder_padding_mask))\n",
    "        x = self.norm1(x + self_attn_out)\n",
    "        ff_out = self.dropout(self.ff(x))\n",
    "        x = self.norm2(x + ff_out)\n",
    "        return x\n",
    "    \n",
    "encoder = Encoder(d_model, 4).to(device)\n",
    "out = encoder(test_inp).to(device)\n",
    "print(out.shape)"
   ]
  },
  {
   "cell_type": "code",
   "execution_count": 19,
   "metadata": {},
   "outputs": [
    {
     "name": "stdout",
     "output_type": "stream",
     "text": [
      "torch.Size([32, 256, 256])\n"
     ]
    }
   ],
   "source": [
    "# Define Decoder Layer\n",
    "class Decoder(nn.Module):\n",
    "    def __init__(self, d_model, nhead, dropout):\n",
    "        super(Decoder, self).__init__()\n",
    "        self.self_attn = MultiHeadAttention(nhead, masking=True)\n",
    "        self.cross_attn = MultiHeadAttention(nhead)\n",
    "        self.ff = FeedForward(d_model)\n",
    "        self.norm1 = nn.LayerNorm(d_model)\n",
    "        self.norm2 = nn.LayerNorm(d_model)\n",
    "        self.norm3 = nn.LayerNorm(d_model)\n",
    "        self.dropout = nn.Dropout(dropout)\n",
    "    \n",
    "    def forward(self, x, encoder_out, encoder_padding_mask=None, decoder_padding_mask=None):\n",
    "        self_attn_out = self.dropout(self.self_attn(x, None, decoder_padding_mask))\n",
    "        x = self.norm1(x + self_attn_out)\n",
    "        cross_attn_out = self.dropout(self.cross_attn(x, encoder_out, encoder_padding_mask))\n",
    "        x = self.norm2(x + cross_attn_out)\n",
    "        ff_out = self.dropout(self.ff(x))\n",
    "        x = self.norm3(x + ff_out)\n",
    "        return x\n",
    "\n",
    "decoder = Decoder(d_model, 4, dropout).to(device)\n",
    "out = decoder(test_inp, out)\n",
    "print(out.shape)"
   ]
  },
  {
   "cell_type": "code",
   "execution_count": 22,
   "metadata": {},
   "outputs": [
    {
     "name": "stdout",
     "output_type": "stream",
     "text": [
      "torch.Size([32, 256, 300])\n"
     ]
    }
   ],
   "source": [
    "# Define Transformer\n",
    "class Transformer(nn.Module):\n",
    "    def __init__(self, vocab_size, d_model, nhead, num_encoder_layers, num_decoder_layers, max_len):\n",
    "        super(Transformer, self).__init__()\n",
    "        # self.encoder_encoding = Final_Encoding(vocab_size, d_model, max_len)\n",
    "        # self.decoder_encoding = Final_Encoding(vocab_size, d_model, max_len)\n",
    "        self.encoder_encoding = Final_Encoding(vocab_size, d_model)\n",
    "        self.decoder_encoding = Final_Encoding(vocab_size, d_model)\n",
    "        self.encoder = nn.ModuleList([\n",
    "            Encoder(d_model, nhead) for _ in range(num_encoder_layers)\n",
    "        ])\n",
    "        self.decoder = nn.ModuleList([\n",
    "            Decoder(d_model, nhead=nhead, dropout=dropout) for _ in range(num_decoder_layers)\n",
    "        ])\n",
    "        self.linear = nn.Linear(d_model, vocab_size)\n",
    "        self.softmax = nn.Softmax(dim=-1)\n",
    "    \n",
    "    def forward(self, encoder_input, decoder_input, encoder_padding_mask=None, decoder_padding_mask=None):\n",
    "        encoder_input = self.encoder_encoding(encoder_input)\n",
    "        decoder_input = self.decoder_encoding(decoder_input)\n",
    "        encoder_out = encoder_input\n",
    "        for layer in self.encoder:\n",
    "            encoder_out = layer(encoder_out, None, encoder_padding_mask)\n",
    "        for layer in self.decoder:\n",
    "            decoder_input = layer(decoder_input, encoder_out, encoder_padding_mask, decoder_padding_mask)\n",
    "        return self.linear(decoder_input)\n",
    "\n",
    "    def generate(self, encoder_input, encoder_padding_mask=None, max_length=128):\n",
    "        batch_size = encoder_input.size(0)\n",
    "        # Initialize decoder input with <sos> token (assuming index 1)\n",
    "        decoder_input = torch.ones((batch_size, 1), dtype=torch.long, device=device) * 2\n",
    "\n",
    "        finished = torch.zeros(batch_size, dtype=torch.bool, device=device)\n",
    "\n",
    "        for _ in range(max_length):\n",
    "            # Run transformer\n",
    "            logits = self(encoder_input, decoder_input, encoder_padding_mask, None)\n",
    "            # Get last predicted token\n",
    "            next_token = logits[:, -1:, :]\n",
    "\n",
    "            next_token = torch.argmax(next_token, dim=-1)\n",
    "\n",
    "            # Force finished sequences to keep producing <eos>\n",
    "            next_token = torch.where(finished.unsqueeze(-1), torch.tensor(3, device=device), next_token)\n",
    "\n",
    "            # Append to decoder input\n",
    "            decoder_input = torch.cat([decoder_input, next_token], dim=-1)\n",
    "\n",
    "            # Update finished status (include existing finished sequences)\n",
    "            finished = finished | (next_token.squeeze(-1) == 3)\n",
    "            \n",
    "            # Early exit if all sequences generate <eos> (assuming index 2)\n",
    "            if finished.all():\n",
    "                break\n",
    "        \n",
    "        return decoder_input[:, 1:]  # Remove initial <sos> token\n",
    "\n",
    "tr = Transformer(vocab_size, d_model, 4, 4, 4, max_len).to(device)\n",
    "enc_inp = torch.randint(0, vocab_size, (32, max_len)).to(device)\n",
    "dec_inp = torch.randint(0, vocab_size, (32, max_len)).to(device)\n",
    "out = tr(enc_inp, dec_inp)\n",
    "print(out.shape)"
   ]
  }
 ],
 "metadata": {
  "kernelspec": {
   "display_name": "Python 3",
   "language": "python",
   "name": "python3"
  },
  "language_info": {
   "codemirror_mode": {
    "name": "ipython",
    "version": 3
   },
   "file_extension": ".py",
   "mimetype": "text/x-python",
   "name": "python",
   "nbconvert_exporter": "python",
   "pygments_lexer": "ipython3",
   "version": "3.10.12"
  }
 },
 "nbformat": 4,
 "nbformat_minor": 2
}
